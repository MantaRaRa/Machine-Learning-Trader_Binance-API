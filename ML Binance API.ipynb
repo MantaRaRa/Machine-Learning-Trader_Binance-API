{
 "cells": [
  {
   "cell_type": "markdown",
   "id": "33ddee2b",
   "metadata": {},
   "source": [
    "# Machine Learning Trader_Binance API"
   ]
  },
  {
   "cell_type": "markdown",
   "id": "6f3db3e4",
   "metadata": {},
   "source": [
    "1. Setup"
   ]
  },
  {
   "cell_type": "code",
   "execution_count": null,
   "id": "ac61859e",
   "metadata": {},
   "outputs": [],
   "source": [
    "apikey = 'BinanceAPIKEY'\n",
    "secret = 'BinanceAPISECRET'"
   ]
  },
  {
   "cell_type": "code",
   "execution_count": null,
   "id": "78f94033",
   "metadata": {},
   "outputs": [],
   "source": [
    "!pip install python-binance pandas mplfinance"
   ]
  },
  {
   "cell_type": "code",
   "execution_count": null,
   "id": "a6209d54",
   "metadata": {},
   "outputs": [],
   "source": [
    "from binance import Client, ThreadedWebsocketManager, ThreadedDepthCacheManager\n",
    "import pandas as pd"
   ]
  },
  {
   "cell_type": "markdown",
   "id": "af7f7410",
   "metadata": {},
   "source": [
    "2. Authenticate"
   ]
  },
  {
   "cell_type": "code",
   "execution_count": null,
   "id": "beaee1cc",
   "metadata": {},
   "outputs": [],
   "source": [
    "client = Client(apikey, secret)"
   ]
  },
  {
   "cell_type": "markdown",
   "id": "fa05d6ec",
   "metadata": {},
   "source": [
    "3. Get Tickers"
   ]
  },
  {
   "cell_type": "code",
   "execution_count": null,
   "id": "7919ed17",
   "metadata": {},
   "outputs": [],
   "source": [
    "tickers = client.get_all_tickers()"
   ]
  },
  {
   "cell_type": "code",
   "execution_count": null,
   "id": "9887ebff",
   "metadata": {},
   "outputs": [],
   "source": [
    "tickers"
   ]
  },
  {
   "cell_type": "code",
   "execution_count": null,
   "id": "36c069af",
   "metadata": {},
   "outputs": [],
   "source": [
    "tickers[1]['price']"
   ]
  },
  {
   "cell_type": "code",
   "execution_count": null,
   "id": "58b16552",
   "metadata": {},
   "outputs": [],
   "source": [
    "ticker_df = pd.DataFrame(tickers)"
   ]
  },
  {
   "cell_type": "code",
   "execution_count": null,
   "id": "8b8fa3d2",
   "metadata": {},
   "outputs": [],
   "source": [
    "ticker_df.head()"
   ]
  },
  {
   "cell_type": "code",
   "execution_count": null,
   "id": "01cca651",
   "metadata": {},
   "outputs": [],
   "source": [
    "ticker_df.tail()"
   ]
  },
  {
   "cell_type": "code",
   "execution_count": null,
   "id": "cdb92812",
   "metadata": {},
   "outputs": [],
   "source": [
    "ticker_df.set_index('symbol', inplace=True)"
   ]
  },
  {
   "cell_type": "code",
   "execution_count": null,
   "id": "e994e8e2",
   "metadata": {},
   "outputs": [],
   "source": [
    "float(ticker_df.loc['ETHBTC']['price'])"
   ]
  },
  {
   "cell_type": "markdown",
   "id": "a79325c8",
   "metadata": {},
   "source": [
    "4. Get Depth"
   ]
  },
  {
   "cell_type": "code",
   "execution_count": null,
   "id": "7c6a6ab9",
   "metadata": {},
   "outputs": [],
   "source": [
    "depth = client.get_order_book(symbol='BTCUSDT')"
   ]
  },
  {
   "cell_type": "code",
   "execution_count": null,
   "id": "fea23913",
   "metadata": {},
   "outputs": [],
   "source": [
    "depth"
   ]
  },
  {
   "cell_type": "code",
   "execution_count": null,
   "id": "d390178e",
   "metadata": {},
   "outputs": [],
   "source": [
    "depth_df = pd.DataFrame(depth['asks'])\n",
    "depth_df.columns = ['Price', 'Volume']\n",
    "depth_df.head()"
   ]
  },
  {
   "cell_type": "code",
   "execution_count": null,
   "id": "280ce7ec",
   "metadata": {},
   "outputs": [],
   "source": [
    "depth_df.dtypes"
   ]
  },
  {
   "cell_type": "markdown",
   "id": "3b905d79",
   "metadata": {},
   "source": [
    "5. Get Historical Data"
   ]
  },
  {
   "cell_type": "code",
   "execution_count": null,
   "id": "9c305f30",
   "metadata": {},
   "outputs": [],
   "source": [
    "#  [\n",
    "#   [\n",
    "#     1499040000000,      // Open time\n",
    "#     \"0.01634790\",       // Open\n",
    "#     \"0.80000000\",       // High\n",
    "#     \"0.01575800\",       // Low\n",
    "#     \"0.01577100\",       // Close\n",
    "#     \"148976.11427815\",  // Volume\n",
    "#     1499644799999,      // Close time\n",
    "#     \"2434.19055334\",    // Quote asset volume\n",
    "#     308,                // Number of trades\n",
    "#     \"1756.87402397\",    // Taker buy base asset volume\n",
    "#     \"28.46694368\",      // Taker buy quote asset volume\n",
    "#     \"17928899.62484339\" // Ignore.\n",
    "#   ]\n",
    "# ]"
   ]
  },
  {
   "cell_type": "code",
   "execution_count": null,
   "id": "76de7710",
   "metadata": {},
   "outputs": [],
   "source": [
    "client.get_historical_klines??"
   ]
  },
  {
   "cell_type": "code",
   "execution_count": null,
   "id": "8ce20253",
   "metadata": {},
   "outputs": [],
   "source": [
    "historical = client.get_historical_klines('ETHBTC', Client.KLINE_INTERVAL_1DAY, '1 Jan 2022')"
   ]
  },
  {
   "cell_type": "code",
   "execution_count": null,
   "id": "6b77ae5a",
   "metadata": {},
   "outputs": [],
   "source": [
    "historical"
   ]
  },
  {
   "cell_type": "code",
   "execution_count": null,
   "id": "020badeb",
   "metadata": {},
   "outputs": [],
   "source": [
    "hist_df = pd.DataFrame(historical)"
   ]
  },
  {
   "cell_type": "code",
   "execution_count": null,
   "id": "5de18a26",
   "metadata": {},
   "outputs": [],
   "source": [
    "hist_df.head()"
   ]
  },
  {
   "cell_type": "code",
   "execution_count": null,
   "id": "47891649",
   "metadata": {},
   "outputs": [],
   "source": [
    "hist_df.columns = ['Open Time', 'Open', 'High', 'Low', 'Close', 'Volume', 'Close Time', 'Quote Asset Volume', \n",
    "                    'Number of Trades', 'TB Base Volume', 'TB Quote Volume', 'Ignore']"
   ]
  },
  {
   "cell_type": "code",
   "execution_count": null,
   "id": "00506c4e",
   "metadata": {},
   "outputs": [],
   "source": [
    "hist_df.tail()"
   ]
  },
  {
   "cell_type": "code",
   "execution_count": null,
   "id": "1e2fa318",
   "metadata": {},
   "outputs": [],
   "source": [
    "hist_df.shape"
   ]
  },
  {
   "cell_type": "code",
   "execution_count": null,
   "id": "d4bbf5c0",
   "metadata": {},
   "outputs": [],
   "source": [
    "hist_df.dtypes"
   ]
  },
  {
   "cell_type": "markdown",
   "id": "6f5a33ed",
   "metadata": {},
   "source": [
    "6. Preprocess Historical Data"
   ]
  },
  {
   "cell_type": "code",
   "execution_count": null,
   "id": "434bdd57",
   "metadata": {},
   "outputs": [],
   "source": [
    "hist_df['Open Time'] = pd.to_datetime(hist_df['Open Time']/1000, unit='s')\n",
    "hist_df['Close Time'] = pd.to_datetime(hist_df['Close Time']/1000, unit='s')"
   ]
  },
  {
   "cell_type": "code",
   "execution_count": null,
   "id": "4ef0d813",
   "metadata": {},
   "outputs": [],
   "source": [
    "numeric_columns = ['Open', 'High', 'Low', 'Close', 'Volume', 'Quote Asset Volume', 'TB Base Volume', 'TB Quote Volume']"
   ]
  },
  {
   "cell_type": "code",
   "execution_count": null,
   "id": "7f8a87e2",
   "metadata": {},
   "outputs": [],
   "source": [
    "hist_df[numeric_columns] = hist_df[numeric_columns].apply(pd.to_numeric, axis=1)"
   ]
  },
  {
   "cell_type": "code",
   "execution_count": null,
   "id": "b8af1c04",
   "metadata": {},
   "outputs": [],
   "source": [
    "hist_df.tail()"
   ]
  },
  {
   "cell_type": "code",
   "execution_count": null,
   "id": "b0d1a7d0",
   "metadata": {},
   "outputs": [],
   "source": [
    "hist_df.dtypes"
   ]
  },
  {
   "cell_type": "code",
   "execution_count": null,
   "id": "e0554995",
   "metadata": {},
   "outputs": [],
   "source": [
    "hist_df.describe()"
   ]
  },
  {
   "cell_type": "code",
   "execution_count": null,
   "id": "52d56c38",
   "metadata": {},
   "outputs": [],
   "source": [
    "hist_df.info()"
   ]
  },
  {
   "cell_type": "markdown",
   "id": "ecf45e15",
   "metadata": {},
   "source": [
    "7. Visualization"
   ]
  },
  {
   "cell_type": "code",
   "execution_count": null,
   "id": "4a35130c",
   "metadata": {},
   "outputs": [],
   "source": [
    "import mplfinance as mpf"
   ]
  },
  {
   "cell_type": "code",
   "execution_count": null,
   "id": "40f33f19",
   "metadata": {},
   "outputs": [],
   "source": [
    "hist_df.set_index('Close Time').tail(100)"
   ]
  },
  {
   "cell_type": "code",
   "execution_count": null,
   "id": "891d9e9d",
   "metadata": {},
   "outputs": [],
   "source": [
    "mpf.plot(hist_df.set_index('Close Time').tail(120), \n",
    "        type='candle', style='charles', \n",
    "        volume=True, \n",
    "        title='ETHBTC Last 120 Days', \n",
    "        mav=(10,20,30))"
   ]
  }
 ],
 "metadata": {
  "kernelspec": {
   "display_name": "Python 3 (ipykernel)",
   "language": "python",
   "name": "python3"
  },
  "language_info": {
   "codemirror_mode": {
    "name": "ipython",
    "version": 3
   },
   "file_extension": ".py",
   "mimetype": "text/x-python",
   "name": "python",
   "nbconvert_exporter": "python",
   "pygments_lexer": "ipython3",
   "version": "3.10.6"
  }
 },
 "nbformat": 4,
 "nbformat_minor": 5
}
