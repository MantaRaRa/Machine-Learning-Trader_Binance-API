{
 "cells": [
  {
   "cell_type": "markdown",
   "id": "1c46969b",
   "metadata": {},
   "source": [
    "# Machine Learning Trader_Binance API"
   ]
  },
  {
   "cell_type": "markdown",
   "id": "d86e2938",
   "metadata": {},
   "source": [
    "1. Setup"
   ]
  },
  {
   "cell_type": "code",
   "execution_count": null,
   "id": "ab1bb533",
   "metadata": {},
   "outputs": [],
   "source": [
    "apikey = 'BinanceAPIKEY'\n",
    "secret = 'BinanceAPISECRET'"
   ]
  },
  {
   "cell_type": "code",
   "execution_count": null,
   "id": "cee45b15",
   "metadata": {},
   "outputs": [],
   "source": [
    "!pip install python-binance pandas mplfinance"
   ]
  },
  {
   "cell_type": "code",
   "execution_count": null,
   "id": "90b4bd26",
   "metadata": {},
   "outputs": [],
   "source": [
    "from binance import Client, ThreadedWebsocketManager, ThreadedDepthCacheManager\n",
    "import pandas as pd"
   ]
  },
  {
   "cell_type": "markdown",
   "id": "3a0f6859",
   "metadata": {},
   "source": [
    "2. Authenticate"
   ]
  },
  {
   "cell_type": "code",
   "execution_count": null,
   "id": "61687c54",
   "metadata": {},
   "outputs": [],
   "source": [
    "client = Client(apikey, secret)"
   ]
  },
  {
   "cell_type": "markdown",
   "id": "9404e330",
   "metadata": {},
   "source": [
    "3. Get Tickers"
   ]
  },
  {
   "cell_type": "code",
   "execution_count": null,
   "id": "84a0c79b",
   "metadata": {},
   "outputs": [],
   "source": [
    "tickers = client.get_all_tickers()"
   ]
  },
  {
   "cell_type": "code",
   "execution_count": null,
   "id": "77baa4b8",
   "metadata": {},
   "outputs": [],
   "source": [
    "tickers"
   ]
  },
  {
   "cell_type": "code",
   "execution_count": null,
   "id": "6a9084d0",
   "metadata": {},
   "outputs": [],
   "source": [
    "tickers[1]['price']"
   ]
  },
  {
   "cell_type": "code",
   "execution_count": null,
   "id": "8b125926",
   "metadata": {},
   "outputs": [],
   "source": [
    "ticker_df = pd.DataFrame(tickers)"
   ]
  },
  {
   "cell_type": "code",
   "execution_count": null,
   "id": "2cb9b182",
   "metadata": {},
   "outputs": [],
   "source": [
    "ticker_df.head()"
   ]
  },
  {
   "cell_type": "code",
   "execution_count": null,
   "id": "14485c46",
   "metadata": {},
   "outputs": [],
   "source": [
    "ticker_df.tail()"
   ]
  },
  {
   "cell_type": "code",
   "execution_count": null,
   "id": "81aea161",
   "metadata": {},
   "outputs": [],
   "source": [
    "ticker_df.set_index('symbol', inplace=True)"
   ]
  },
  {
   "cell_type": "code",
   "execution_count": null,
   "id": "8534f5a4",
   "metadata": {},
   "outputs": [],
   "source": [
    "float(ticker_df.loc['ETHBTC']['price'])"
   ]
  },
  {
   "cell_type": "markdown",
   "id": "481d3f42",
   "metadata": {},
   "source": [
    "4. Get Depth"
   ]
  },
  {
   "cell_type": "code",
   "execution_count": null,
   "id": "057c4b3e",
   "metadata": {},
   "outputs": [],
   "source": [
    "depth = client.get_order_book(symbol='BTCUSDT')"
   ]
  },
  {
   "cell_type": "code",
   "execution_count": null,
   "id": "f4fe26ae",
   "metadata": {},
   "outputs": [],
   "source": [
    "depth"
   ]
  },
  {
   "cell_type": "code",
   "execution_count": null,
   "id": "26ae8406",
   "metadata": {},
   "outputs": [],
   "source": [
    "depth_df = pd.DataFrame(depth['asks'])\n",
    "depth_df.columns = ['Price', 'Volume']\n",
    "depth_df.head()"
   ]
  },
  {
   "cell_type": "code",
   "execution_count": null,
   "id": "25048de6",
   "metadata": {},
   "outputs": [],
   "source": [
    "depth_df.dtypes"
   ]
  },
  {
   "cell_type": "markdown",
   "id": "ae72fd62",
   "metadata": {},
   "source": [
    "5. Get Historical Data"
   ]
  },
  {
   "cell_type": "code",
   "execution_count": null,
   "id": "c6b81a1f",
   "metadata": {},
   "outputs": [],
   "source": [
    "#  [\n",
    "#   [\n",
    "#     1499040000000,      // Open time\n",
    "#     \"0.01634790\",       // Open\n",
    "#     \"0.80000000\",       // High\n",
    "#     \"0.01575800\",       // Low\n",
    "#     \"0.01577100\",       // Close\n",
    "#     \"148976.11427815\",  // Volume\n",
    "#     1499644799999,      // Close time\n",
    "#     \"2434.19055334\",    // Quote asset volume\n",
    "#     308,                // Number of trades\n",
    "#     \"1756.87402397\",    // Taker buy base asset volume\n",
    "#     \"28.46694368\",      // Taker buy quote asset volume\n",
    "#     \"17928899.62484339\" // Ignore.\n",
    "#   ]\n",
    "# ]"
   ]
  },
  {
   "cell_type": "code",
   "execution_count": null,
   "id": "d095839b",
   "metadata": {},
   "outputs": [],
   "source": [
    "client.get_historical_klines??"
   ]
  },
  {
   "cell_type": "code",
   "execution_count": null,
   "id": "90d90743",
   "metadata": {},
   "outputs": [],
   "source": [
    "historical = client.get_historical_klines('ETHBTC', Client.KLINE_INTERVAL_1DAY, '1 Jan 2022')"
   ]
  },
  {
   "cell_type": "code",
   "execution_count": null,
   "id": "87ab0374",
   "metadata": {},
   "outputs": [],
   "source": [
    "historical"
   ]
  },
  {
   "cell_type": "code",
   "execution_count": null,
   "id": "b0f4f051",
   "metadata": {},
   "outputs": [],
   "source": [
    "hist_df = pd.DataFrame(historical)"
   ]
  },
  {
   "cell_type": "code",
   "execution_count": null,
   "id": "9cf1cc21",
   "metadata": {},
   "outputs": [],
   "source": [
    "hist_df.head()"
   ]
  },
  {
   "cell_type": "code",
   "execution_count": null,
   "id": "6748d96f",
   "metadata": {},
   "outputs": [],
   "source": [
    "hist_df.columns = ['Open Time', 'Open', 'High', 'Low', 'Close', 'Volume', 'Close Time', 'Quote Asset Volume', \n",
    "                    'Number of Trades', 'TB Base Volume', 'TB Quote Volume', 'Ignore']"
   ]
  },
  {
   "cell_type": "code",
   "execution_count": null,
   "id": "02254bb3",
   "metadata": {},
   "outputs": [],
   "source": [
    "hist_df.tail()"
   ]
  },
  {
   "cell_type": "code",
   "execution_count": null,
   "id": "88d23468",
   "metadata": {},
   "outputs": [],
   "source": [
    "hist_df.shape"
   ]
  },
  {
   "cell_type": "code",
   "execution_count": null,
   "id": "a2959337",
   "metadata": {},
   "outputs": [],
   "source": [
    "hist_df.dtypes"
   ]
  },
  {
   "cell_type": "markdown",
   "id": "7f9ce9b4",
   "metadata": {},
   "source": [
    "6. Preprocess Historical Data"
   ]
  },
  {
   "cell_type": "code",
   "execution_count": null,
   "id": "de5b4172",
   "metadata": {},
   "outputs": [],
   "source": [
    "hist_df['Open Time'] = pd.to_datetime(hist_df['Open Time']/1000, unit='s')\n",
    "hist_df['Close Time'] = pd.to_datetime(hist_df['Close Time']/1000, unit='s')"
   ]
  },
  {
   "cell_type": "code",
   "execution_count": null,
   "id": "560a7f94",
   "metadata": {},
   "outputs": [],
   "source": [
    "numeric_columns = ['Open', 'High', 'Low', 'Close', 'Volume', 'Quote Asset Volume', 'TB Base Volume', 'TB Quote Volume']"
   ]
  },
  {
   "cell_type": "code",
   "execution_count": null,
   "id": "f3558e00",
   "metadata": {},
   "outputs": [],
   "source": [
    "hist_df[numeric_columns] = hist_df[numeric_columns].apply(pd.to_numeric, axis=1)"
   ]
  },
  {
   "cell_type": "code",
   "execution_count": null,
   "id": "c6cab4b7",
   "metadata": {},
   "outputs": [],
   "source": [
    "hist_df.tail()"
   ]
  },
  {
   "cell_type": "code",
   "execution_count": null,
   "id": "4f72bb34",
   "metadata": {},
   "outputs": [],
   "source": [
    "hist_df.dtypes"
   ]
  },
  {
   "cell_type": "code",
   "execution_count": null,
   "id": "637f2686",
   "metadata": {},
   "outputs": [],
   "source": [
    "hist_df.describe()"
   ]
  },
  {
   "cell_type": "code",
   "execution_count": null,
   "id": "3dd49e56",
   "metadata": {},
   "outputs": [],
   "source": [
    "hist_df.info()"
   ]
  },
  {
   "cell_type": "markdown",
   "id": "e98e54c9",
   "metadata": {},
   "source": [
    "7. Visualization"
   ]
  },
  {
   "cell_type": "code",
   "execution_count": null,
   "id": "fbc492fd",
   "metadata": {},
   "outputs": [],
   "source": [
    "import mplfinance as mpf"
   ]
  },
  {
   "cell_type": "code",
   "execution_count": null,
   "id": "cd413682",
   "metadata": {},
   "outputs": [],
   "source": [
    "hist_df.set_index('Close Time').tail(100)"
   ]
  },
  {
   "cell_type": "code",
   "execution_count": null,
   "id": "497cf41e",
   "metadata": {},
   "outputs": [],
   "source": [
    "mpf.plot(hist_df.set_index('Close Time').tail(120), \n",
    "        type='candle', style='charles', \n",
    "        volume=True, \n",
    "        title='ETHBTC Last 120 Days', \n",
    "        mav=(10,20,30))"
   ]
  }
 ],
 "metadata": {
  "kernelspec": {
   "display_name": "Python 3 (ipykernel)",
   "language": "python",
   "name": "python3"
  },
  "language_info": {
   "codemirror_mode": {
    "name": "ipython",
    "version": 3
   },
   "file_extension": ".py",
   "mimetype": "text/x-python",
   "name": "python",
   "nbconvert_exporter": "python",
   "pygments_lexer": "ipython3",
   "version": "3.10.6"
  }
 },
 "nbformat": 4,
 "nbformat_minor": 5
}
